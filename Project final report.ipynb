{
 "cells": [
  {
   "cell_type": "markdown",
   "metadata": {},
   "source": [
    "# Project Group - 11 \n",
    "\n",
    "Members: Mika Dawud, Luke Tros, Florine Vermeer, Brigitte Nauta and Lisette de Langen\n",
    "\n",
    "Student numbers: 5379849, 5605946, 5351944, 5356148 ,5476402"
   ]
  },
  {
   "cell_type": "markdown",
   "metadata": {},
   "source": [
    "# Introduction\n",
    "\n",
    "In recent years, fuel prices have been a frequent topic of discussion. Fuel prices rose sharply at the end of 2021 and the beginning of 2022, partly due to the war in Ukraine, prompting the Dutch government to intervene. This was done by introducing an excise duty reduction on gasoline, diesel, and LPG starting from April 1, 2022 [1]. As of July 1, 2023, half of this 'discount' expired, and by the end of this year, on December 31, 2024, this measure will be fully phased out [2]. \n",
    "\n",
    "Despite rising fuel prices, the total number of cars in the Netherlands has not decreased. In fact, it has continued to grow [3]. This suggests that many Dutch people still consider the car an important mode of transport, regardless of the increasing fuel costs.\n",
    "\n",
    "But what impact do these rising fuel prices actually have on the number of kilometers traveled, and are people adjusting their mode of transport accordingly?\n",
    "\n",
    "**Sources:** <br>\n",
    "[1] https://www.anwb.nl/verkeer/nieuws/nederland/2023/juli/brandstofaccijns-omhoog-1-juli-2023 <br>\n",
    "[2] https://www.rendement.nl/reiskosten/nieuws/accijnzen-op-benzine-en-diesel-verder-omhoog-per-1-januari-2024.html <br>\n",
    "[3] https://www.clo.nl/indicatoren/nl002624-aantal-motorvoertuigen-1990-2021 <br>"
   ]
  },
  {
   "cell_type": "markdown",
   "metadata": {},
   "source": [
    "# Research Objective\n",
    "\n",
    "*Requires data modeling and quantitative research in Transport, Infrastructure & Logistics*"
   ]
  },
  {
   "cell_type": "markdown",
   "metadata": {},
   "source": [
    "**Main research question:** \n",
    "How does pump price correlate with travel distance of different modes between 2010 and 2017?\n",
    "\n",
    "**Subquestions:**\n",
    "- How has the pump prices changed between 2010 and 2017?\n",
    "- How has the travel distance for car and train changed between 2010 and 2017?\n",
    "- What is the difference in the correlations between provinces with least and the most yearly travel distance?\n"
   ]
  },
  {
   "cell_type": "markdown",
   "metadata": {},
   "source": [
    "# Contribution Statement <br>"
   ]
  },
  {
   "cell_type": "markdown",
   "metadata": {},
   "source": [
    "*Be specific. Some of the tasks can be coding (expect everyone to do this), background research, conceptualisation, visualisation, data analysis, data modelling* <br>\n",
    "**Mika Dawud**: <br>\n",
    "**Luke Tros**: <br>\n",
    "**Florine Vermeer**: <br>\n",
    "**Brigitte Nauta**: background research <br>\n",
    "**Lisette de Langen**: <br>\n"
   ]
  },
  {
   "cell_type": "markdown",
   "metadata": {},
   "source": [
    "# Data Used"
   ]
  },
  {
   "cell_type": "markdown",
   "metadata": {},
   "source": [
    "Both of the data files that are used, are from Centraal Bureau voor de Statistiek (CBS). <br>\n",
    "Data File 1 'brandstofprijzen.csv' gives the pump prices per day from 2006 to 2024. [1] <br>\n",
    "Data File 2 'personenmobiliteit incl. namen.csv' and 'personenmobiliteit.csv' gives the total travel distances and per mode. [2]\n",
    "\n",
    "Source: <br>\n",
    "[1] https://opendata.cbs.nl/statline/#/CBS/nl/dataset/80416ned/table?ts=1727428179572 <br>\n",
    "[2] https://opendata.cbs.nl/#/CBS/nl/dataset/83498NED/table?ts=1727857444917"
   ]
  },
  {
   "cell_type": "markdown",
   "metadata": {},
   "source": [
    "# Data Pipeline"
   ]
  },
  {
   "cell_type": "markdown",
   "metadata": {},
   "source": [
    "1. Understand the data and know what it consist of.\n",
    "2. Data processing: Filtering the data to the data that is needed. Example: change the data to pump prices per month instead of per day.\n",
    "3. Vizualise: Presenting the data and the results in graphs."
   ]
  },
  {
   "cell_type": "markdown",
   "metadata": {
    "vscode": {
     "languageId": "plaintext"
    }
   },
   "source": [
    "# Results\n",
    "\n",
    "**How has the pump prices changed between 2010 and 2017?** \n",
    "\n",
    "First, the development of fuel prices between 2010 and 2017 was studied. For this, data from CBS was used, which provides a monthly updated file of average fuel prices for LNG, benzine, and diesel in the Netherlands. The share of LNG users (3%) was very small, so it was neglected in our analysis. The share of benzine users was 80% of the total and diesel 17%. The prices for benzine and diesel are plotted in two graphs. Additionally, the average price of benzine and diesel combined is also plotted. <br>\n",
    "To get a global view of the price trends, the average price per year was plotted.\n",
    "\n",
    "*GRAPH (AVERAGE PRICES PER YEAR)*\n",
    "\n",
    "From the graph, it can be seen that both diesel and benzine follow the same trend, with benzine being slightly more expensive on average than diesel. Prices rose from 2010 to 2012, then started declining after 2014, with an even steeper drop until 2016. From 2016 onwards, prices began rising again. <br>\n",
    "For a more detailed view of the price development, the price per month was plotted in the following graph.\n",
    "\n",
    "*GRAPH (AVERAGE PRICES MONTH)*\n",
    "\n",
    "The highest price for benzine was around €1.80 per liter, and for diesel, around €1.50, in mid-2012. The lowest price for benzine was €1.40, while for diesel, it was €1.50, both at the beginning of 2016. From the monthly graph, it can be seen that the prices follow a similar trend, but not exactly the same. For example, the price of diesel began rising slightly earlier than benzine at the end of 2011.\n",
    "\n",
    "**How has the travel distance for car and train changed between 2010 and 2017?** \n",
    "\n",
    "After studying fuel prices, the development of the average kilometers traveled by car and train was examined for the same period (2012-2017). The kilometers traveled by car are divided into two categories: kilometers driven by the car driver and kilometers traveled by passengers. The development is shown in the graph below.\n",
    "\n",
    "*GRAPH KILOMETERS PER YEAR*\n",
    "\n",
    "From the graph, it can be seen that, on average, much more distance is covered by car than by train — about 20 km more per day per inhabitant of the Netherlands. The graph also shows that many cars are used only by the driver, as the number of kilometers driven by the driver is much higher than that by passengers. Over the years, the number of kilometers traveled per mode appears relatively stable. A slight decline can be seen in the total kilometers traveled by car, and a small increase in train kilometers. <br>\n",
    "The yearly graph might suggest stability, but when looking at the graph with monthly time steps, it becomes clear that the amount of kilometers traveled fluctuates.\n",
    "\n",
    "*GRAPH KILOMETERS PER MONTH*\n",
    "\n",
    "These monthly fluctuations can be explained by holiday periods when people travel less or by seasonal effects, with people switching between car and train as the weather gets colder. However, as previously concluded, the total kilometers traveled on a yearly basis remain relatively stable.\n",
    "\n",
    "**What is the difference in the correlations between provinces with least and the most yearly travel distance?**\n",
    "\n",
    "\n",
    "- How has the pump prices changed between 2010 and 2017?\n",
    "    *lijngrafiek, pompprijs tussen 2010 en 2017 voor alle verschillende brandstoffen (evt. een gemiddelde stijging)*\n",
    "- How has the travel distance for car and train changed between 2010 and 2017?\n",
    "    *lijngrafiek (lijn voor totaal aantal kilometers, treinkilometers en autokilometers)*\n",
    "- What is the difference in effect between the province with least and the most travel distance per month?\n",
    "    *Staafdiagram (om alle jaren te kunnen laten zien verhoudingsgewijs trein en auto)*\n",
    "\n",
    "\n",
    "- How has the pump prices changed between 2010 and 2017?\n",
    "- How has the travel distance for car and train changed between 2010 and 2017?\n",
    "- What is the difference in the correlations between provinces with least and the most yearly travel distance?"
   ]
  },
  {
   "cell_type": "markdown",
   "metadata": {},
   "source": [
    "# Conclusion\n"
   ]
  },
  {
   "cell_type": "markdown",
   "metadata": {},
   "source": [
    "What is the effect of the pump prices on the travel distance of different modes between 2010 and 2017? <br>\n",
    "*aantal kilometers neemt sowieso al jaren toe ... (verdere conclusie uit resultaten)*"
   ]
  },
  {
   "cell_type": "markdown",
   "metadata": {},
   "source": []
  }
 ],
 "metadata": {
  "kernelspec": {
   "display_name": "Python 3",
   "language": "python",
   "name": "python3"
  },
  "language_info": {
   "name": "python",
   "version": "3.8.2"
  },
  "orig_nbformat": 4,
  "vscode": {
   "interpreter": {
    "hash": "31f2aee4e71d21fbe5cf8b01ff0e069b9275f58929596ceb00d14d90e3e16cd6"
   }
  }
 },
 "nbformat": 4,
 "nbformat_minor": 2
}
