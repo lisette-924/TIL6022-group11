{
 "cells": [
  {
   "cell_type": "markdown",
   "metadata": {},
   "source": [
    "# Project Group - 11 \n",
    "\n",
    "Members: Mika Dawud, Luke Tros, Florine Vermeer, Brigitte Nauta and Lisette de Langen\n",
    "\n",
    "Student numbers: 5379849, 5605946, 5351944, 5356148 ,5476402"
   ]
  },
  {
   "cell_type": "markdown",
   "metadata": {},
   "source": [
    "# Research Objective\n",
    "\n",
    "*Requires data modeling and quantitative research in Transport, Infrastructure & Logistics*"
   ]
  },
  {
   "cell_type": "markdown",
   "metadata": {},
   "source": [
    "**Main research question:** \n",
    "What is the effect of the pump prices on the travel distance of different modes between 2010 and 2017?\n",
    "\n",
    "**Subquestions:**\n",
    "- How has the pump prices changed between 2010 and 2017?\n",
    "- How has the travel distance for car and train changed between 2010 and 2017?\n",
    "- What is the difference in effect between the province with least and the most travel distance per month?\n"
   ]
  },
  {
   "cell_type": "markdown",
   "metadata": {},
   "source": [
    "# Contribution Statement\n",
    "\n",
    "*Be specific. Some of the tasks can be coding (expect everyone to do this), background research, conceptualisation, visualisation, data analysis, data modelling*"
   ]
  },
  {
   "cell_type": "markdown",
   "metadata": {},
   "source": [
    "**Mika Dawud**:\n",
    "\n",
    "**Luke Tros**:\n",
    "\n",
    "**Florine Vermeer**:\n",
    "\n",
    "**Brigitte Nauta**:\n",
    "\n",
    "**Lisette de Langen**:\n"
   ]
  },
  {
   "cell_type": "markdown",
   "metadata": {},
   "source": [
    "# Data Used"
   ]
  },
  {
   "cell_type": "markdown",
   "metadata": {},
   "source": [
    "Both of the data files that are used, are from Centraal Bureau voor de Statistiek (CBS). \n",
    "\n",
    "Data File 1 '80416ned_UntypedDataSet_02102024_093324.csv' gives the pump prices per day from 2006 to 2024. [1]\n",
    "\n",
    "Data File 2 '83498NED_metadata.csv' and '83498NED_UntypedDataSet_02102024_101220.csv' gives the total travel distances and per mode. [2]\n",
    "\n",
    "Source:\n",
    "\n",
    "[1] https://opendata.cbs.nl/statline/#/CBS/nl/dataset/80416ned/table?ts=1727428179572\n",
    "\n",
    "[2] https://opendata.cbs.nl/#/CBS/nl/dataset/83498NED/table?ts=1727857444917"
   ]
  },
  {
   "cell_type": "markdown",
   "metadata": {},
   "source": [
    "# Data Pipeline"
   ]
  },
  {
   "cell_type": "markdown",
   "metadata": {},
   "source": [
    "1. Understand the data and know what it consist of.\n",
    "2. Data processing: Filtering the data to the data that is needed. Example: change the pump prices from per day to per month.\n",
    "3. Vizualise: Presenting the data and the results in graphs."
   ]
  }
 ],
 "metadata": {
  "kernelspec": {
   "display_name": "Python 3",
   "language": "python",
   "name": "python3"
  },
  "language_info": {
   "name": "python",
   "version": "3.8.2"
  },
  "orig_nbformat": 4,
  "vscode": {
   "interpreter": {
    "hash": "31f2aee4e71d21fbe5cf8b01ff0e069b9275f58929596ceb00d14d90e3e16cd6"
   }
  }
 },
 "nbformat": 4,
 "nbformat_minor": 2
}
