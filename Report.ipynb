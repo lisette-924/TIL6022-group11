{
 "cells": [
  {
   "cell_type": "markdown",
   "metadata": {},
   "source": [
    "# Project Group - 11 \n",
    "\n",
    "Members: Mika Dawud, Luke Tros, Florine Vermeer, Brigitte Nauta and Lisette de Langen\n",
    "\n",
    "Student numbers: 5379849, 5605946, 5351944, 5356148 ,5476402"
   ]
  },
  {
   "cell_type": "markdown",
   "metadata": {},
   "source": [
    "# Introduction\n",
    "\n",
    "In recent years, fuel prices have been a frequent topic of discussion. Fuel prices rose sharply at the end of 2021 and the beginning of 2022, partly due to the war in Ukraine, prompting the Dutch government to intervene. This was done by introducing an excise duty reduction on gasoline, diesel, and LPG starting from April 1, 2022 [1]. As of July 1, 2023, half of this 'discount' expired, and by the end of this year, on December 31, 2024, this measure will be fully phased out [2].\n",
    "\n",
    "Despite rising fuel prices, the total number of cars in the Netherlands has not decreased. In fact, it has continued to grow [3]. This suggests that many Dutch people still consider the car an important mode of transport, regardless of the increasing fuel costs.\n",
    "\n",
    "But what impact do these rising fuel prices actually have on the number of kilometers traveled, and are people adjusting their mode of transport accordingly?\n",
    "\n",
    "**Sources:**\n",
    "\n",
    "[1] https://www.anwb.nl/verkeer/nieuws/nederland/2023/juli/brandstofaccijns-omhoog-1-juli-2023\n",
    "\n",
    "[2] https://www.rendement.nl/reiskosten/nieuws/accijnzen-op-benzine-en-diesel-verder-omhoog-per-1-januari-2024.html\n",
    "\n",
    "[3] https://www.clo.nl/indicatoren/nl002624-aantal-motorvoertuigen-1990-2021"
   ]
  },
  {
   "cell_type": "markdown",
   "metadata": {},
   "source": [
    "# Research Objective\n",
    "\n",
    "*Requires data modeling and quantitative research in Transport, Infrastructure & Logistics*"
   ]
  },
  {
   "cell_type": "markdown",
   "metadata": {},
   "source": [
    "**Main research question:** \n",
    "What is the effect of the pump prices on the travel distance of different modes between 2010 and 2017?\n",
    "\n",
    "**Subquestions:**\n",
    "- How has the pump prices changed between 2010 and 2017?\n",
    "- How has the travel distance for car and train changed between 2010 and 2017?\n",
    "- What is the difference in effect between the province with least and the most travel distance per month?\n"
   ]
  },
  {
   "cell_type": "markdown",
   "metadata": {},
   "source": [
    "# Contribution Statement\n",
    "\n",
    "*Be specific. Some of the tasks can be coding (expect everyone to do this), background research, conceptualisation, visualisation, data analysis, data modelling*"
   ]
  },
  {
   "cell_type": "markdown",
   "metadata": {},
   "source": [
    "**Mika Dawud**: \n",
    "\n",
    "**Luke Tros**: \n",
    "\n",
    "**Florine Vermeer**: \n",
    "\n",
    "**Brigitte Nauta**: background research\n",
    "\n",
    "**Lisette de Langen**: \n"
   ]
  },
  {
   "cell_type": "markdown",
   "metadata": {},
   "source": [
    "# Data Used"
   ]
  },
  {
   "cell_type": "markdown",
   "metadata": {},
   "source": [
    "Both of the data files that are used, are from Centraal Bureau voor de Statistiek (CBS). \n",
    "\n",
    "Data File 1 'brandstofprijzen.csv' gives the pump prices per day from 2006 to 2024. [1]\n",
    "\n",
    "Data File 2 'personenmobiliteit incl. namen.csv' and 'personenmobiliteit.csv' gives the total travel distances and per mode. [2]\n",
    "\n",
    "Source:\n",
    "\n",
    "[1] https://opendata.cbs.nl/statline/#/CBS/nl/dataset/80416ned/table?ts=1727428179572\n",
    "\n",
    "[2] https://opendata.cbs.nl/#/CBS/nl/dataset/83498NED/table?ts=1727857444917"
   ]
  },
  {
   "cell_type": "markdown",
   "metadata": {},
   "source": [
    "# Data Pipeline"
   ]
  },
  {
   "cell_type": "markdown",
   "metadata": {},
   "source": [
    "1. Understand the data and know what it consist of.\n",
    "2. Data processing: Filtering the data to the data that is needed. Example: change the data to pump prices per month instead of per day.\n",
    "3. Vizualise: Presenting the data and the results in graphs."
   ]
  },
  {
   "cell_type": "markdown",
   "metadata": {
    "vscode": {
     "languageId": "plaintext"
    }
   },
   "source": [
    "# Results\n",
    "- How has the pump prices changed between 2010 and 2017?\n",
    "    *lijngrafiek, pompprijs tussen 2010 en 2017 voor alle verschillende brandstoffen (evt. een gemiddelde stijging)*\n",
    "- How has the travel distance for car and train changed between 2010 and 2017?\n",
    "    *lijngrafiek (lijn voor totaal aantal kilometers, treinkilometers en autokilometers)*\n",
    "- What is the difference in effect between the province with least and the most travel distance per month?\n",
    "    *Staafdiagram (om alle jaren te kunnen laten zien verhoudingsgewijs trein en auto)*"
   ]
  },
  {
   "cell_type": "markdown",
   "metadata": {},
   "source": [
    "# Conclusion\n"
   ]
  },
  {
   "cell_type": "markdown",
   "metadata": {},
   "source": [
    "What is the effect of the pump prices on the travel distance of different modes between 2010 and 2017?\n",
    "\n",
    "*aantal kilometers neemt sowieso al jaren toe ... (verdere conclusie uit resultaten)*"
   ]
  },
  {
   "cell_type": "markdown",
   "metadata": {},
   "source": []
  }
 ],
 "metadata": {
  "kernelspec": {
   "display_name": "Python 3",
   "language": "python",
   "name": "python3"
  },
  "language_info": {
   "name": "python",
   "version": "3.8.2"
  },
  "orig_nbformat": 4,
  "vscode": {
   "interpreter": {
    "hash": "31f2aee4e71d21fbe5cf8b01ff0e069b9275f58929596ceb00d14d90e3e16cd6"
   }
  }
 },
 "nbformat": 4,
 "nbformat_minor": 2
}
