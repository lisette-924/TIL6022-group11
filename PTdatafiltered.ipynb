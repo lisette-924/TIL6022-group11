{
 "cells": [
  {
   "cell_type": "code",
   "execution_count": 1,
   "id": "3c1d241d-fc18-4b49-937e-915208a37804",
   "metadata": {},
   "outputs": [],
   "source": [
    "import pandas as pd\n",
    "import seaborn as sns\n",
    "import plotly.express as px\n",
    "import numpy as np\n",
    "import matplotlib.pyplot as plt"
   ]
  },
  {
   "cell_type": "code",
   "execution_count": 2,
   "id": "9349b6a1-7ae3-4004-8976-ab697d4622af",
   "metadata": {},
   "outputs": [],
   "source": [
    "data = pd.read_csv(\"personenmobiliteit incl. namen.csv\", delimiter=',', index_col= 'ID', nrows=63360, ) \n",
    "treindata = data[   data['Vervoerwijzen'].isin(['Trein']) & #treindata is the traindata filtered on data per month for the Netherlands\n",
    "                    data['RegioS'].isin(['Nederland']) & #only data for all of the Netherlands\n",
    "                    data['KenmerkenVerplaatsing'].isin([  'Verplaatsing in januari', #filtering only the months from the column\n",
    "                                                        'Verplaatsing in februari',\n",
    "                                                        'Verplaatsing in maart',\n",
    "                                                        'Verplaatsing in april',\n",
    "                                                        'Verplaatsing in mei',\n",
    "                                                        'Verplaatsing in juni',\n",
    "                                                        'Verplaatsing in juli',\n",
    "                                                        'Verplaatsing in augustus',\n",
    "                                                        'Verplaatsing in september',\n",
    "                                                        'Verplaatsing in oktober',\n",
    "                                                        'Verplaatsing in november',\n",
    "                                                        'Verplaatsing in december']) \n",
    "                ].sort_values(by=['Perioden']) #sort values on year instead of per month\n",
    "\n",
    "btmdata = data[ data['Vervoerwijzen'].isin(['Bus/tram/metro']) & #btmdata is the bus/tram/metro data filtered on data per month for the Netherlands\n",
    "                data['RegioS'].isin(['Nederland']) & #only data from all of the Netherlands\n",
    "                data['KenmerkenVerplaatsing'].isin([  'Verplaatsing in januari', #filtering only for months from the column\n",
    "                                                    'Verplaatsing in februari',\n",
    "                                                    'Verplaatsing in maart',\n",
    "                                                    'Verplaatsing in april',\n",
    "                                                    'Verplaatsing in mei',\n",
    "                                                    'Verplaatsing in juni',\n",
    "                                                    'Verplaatsing in juli',\n",
    "                                                    'Verplaatsing in augustus',\n",
    "                                                    'Verplaatsing in september',\n",
    "                                                    'Verplaatsing in oktober',\n",
    "                                                    'Verplaatsing in november',\n",
    "                                                    'Verplaatsing in december']) \n",
    "            ].sort_values(by=['Perioden']) #sort values on year instead of per month"
   ]
  },
  {
   "cell_type": "code",
   "execution_count": null,
   "id": "10be0205-98fe-449b-836c-3dd98b3219f2",
   "metadata": {},
   "outputs": [],
   "source": []
  }
 ],
 "metadata": {
  "kernelspec": {
   "display_name": "Python 3 (ipykernel)",
   "language": "python",
   "name": "python3"
  },
  "language_info": {
   "codemirror_mode": {
    "name": "ipython",
    "version": 3
   },
   "file_extension": ".py",
   "mimetype": "text/x-python",
   "name": "python",
   "nbconvert_exporter": "python",
   "pygments_lexer": "ipython3",
   "version": "3.12.5"
  }
 },
 "nbformat": 4,
 "nbformat_minor": 5
}
